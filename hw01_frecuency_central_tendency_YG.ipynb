{
 "cells": [
  {
   "cell_type": "markdown",
   "metadata": {
    "id": "AelhvBEmHcfC"
   },
   "source": [
    "About the homework: In some tasks, in addition to writing code, answers to questions and conclusions are required (there are special Markdown cells marked with **Answer**).\n",
    "\n",
    "The ability to analyze the results of experiments is an important skill. Therefore, answers carry more weight than the code: the code accounts for 30% of the task grade, while answers to questions account for 70%."
   ]
  },
  {
   "cell_type": "code",
   "execution_count": 3,
   "metadata": {
    "id": "nzHz8x37jri1"
   },
   "outputs": [],
   "source": [
    "import numpy as np\n",
    "import pandas as pd\n",
    "import matplotlib.pyplot as plt\n",
    "import seaborn as sns"
   ]
  },
  {
   "cell_type": "markdown",
   "metadata": {
    "id": "1mAIjDWLjd_6"
   },
   "source": [
    "Download the [dataset about Pokemons](https://www.kaggle.com/datasets/abcsds/pokemon)"
   ]
  },
  {
   "cell_type": "code",
   "execution_count": 23,
   "metadata": {
    "id": "4KSPk8weisct"
   },
   "outputs": [
    {
     "data": {
      "text/html": [
       "<div>\n",
       "<style scoped>\n",
       "    .dataframe tbody tr th:only-of-type {\n",
       "        vertical-align: middle;\n",
       "    }\n",
       "\n",
       "    .dataframe tbody tr th {\n",
       "        vertical-align: top;\n",
       "    }\n",
       "\n",
       "    .dataframe thead th {\n",
       "        text-align: right;\n",
       "    }\n",
       "</style>\n",
       "<table border=\"1\" class=\"dataframe\">\n",
       "  <thead>\n",
       "    <tr style=\"text-align: right;\">\n",
       "      <th></th>\n",
       "      <th>#</th>\n",
       "      <th>Name</th>\n",
       "      <th>Type 1</th>\n",
       "      <th>Type 2</th>\n",
       "      <th>Total</th>\n",
       "      <th>HP</th>\n",
       "      <th>Attack</th>\n",
       "      <th>Defense</th>\n",
       "      <th>Sp. Atk</th>\n",
       "      <th>Sp. Def</th>\n",
       "      <th>Speed</th>\n",
       "      <th>Generation</th>\n",
       "      <th>Legendary</th>\n",
       "    </tr>\n",
       "  </thead>\n",
       "  <tbody>\n",
       "    <tr>\n",
       "      <th>338</th>\n",
       "      <td>310</td>\n",
       "      <td>Manectric</td>\n",
       "      <td>Electric</td>\n",
       "      <td>NaN</td>\n",
       "      <td>475</td>\n",
       "      <td>70</td>\n",
       "      <td>75</td>\n",
       "      <td>60</td>\n",
       "      <td>105</td>\n",
       "      <td>60</td>\n",
       "      <td>105</td>\n",
       "      <td>3</td>\n",
       "      <td>False</td>\n",
       "    </tr>\n",
       "    <tr>\n",
       "      <th>346</th>\n",
       "      <td>317</td>\n",
       "      <td>Swalot</td>\n",
       "      <td>Poison</td>\n",
       "      <td>NaN</td>\n",
       "      <td>467</td>\n",
       "      <td>100</td>\n",
       "      <td>73</td>\n",
       "      <td>83</td>\n",
       "      <td>73</td>\n",
       "      <td>83</td>\n",
       "      <td>55</td>\n",
       "      <td>3</td>\n",
       "      <td>False</td>\n",
       "    </tr>\n",
       "    <tr>\n",
       "      <th>530</th>\n",
       "      <td>478</td>\n",
       "      <td>Froslass</td>\n",
       "      <td>Ice</td>\n",
       "      <td>Ghost</td>\n",
       "      <td>480</td>\n",
       "      <td>70</td>\n",
       "      <td>80</td>\n",
       "      <td>70</td>\n",
       "      <td>80</td>\n",
       "      <td>70</td>\n",
       "      <td>110</td>\n",
       "      <td>4</td>\n",
       "      <td>False</td>\n",
       "    </tr>\n",
       "    <tr>\n",
       "      <th>435</th>\n",
       "      <td>390</td>\n",
       "      <td>Chimchar</td>\n",
       "      <td>Fire</td>\n",
       "      <td>NaN</td>\n",
       "      <td>309</td>\n",
       "      <td>44</td>\n",
       "      <td>58</td>\n",
       "      <td>44</td>\n",
       "      <td>58</td>\n",
       "      <td>44</td>\n",
       "      <td>61</td>\n",
       "      <td>4</td>\n",
       "      <td>False</td>\n",
       "    </tr>\n",
       "  </tbody>\n",
       "</table>\n",
       "</div>"
      ],
      "text/plain": [
       "       #       Name    Type 1 Type 2  Total   HP  Attack  Defense  Sp. Atk  \\\n",
       "338  310  Manectric  Electric    NaN    475   70      75       60      105   \n",
       "346  317     Swalot    Poison    NaN    467  100      73       83       73   \n",
       "530  478   Froslass       Ice  Ghost    480   70      80       70       80   \n",
       "435  390   Chimchar      Fire    NaN    309   44      58       44       58   \n",
       "\n",
       "     Sp. Def  Speed  Generation  Legendary  \n",
       "338       60    105           3      False  \n",
       "346       83     55           3      False  \n",
       "530       70    110           4      False  \n",
       "435       44     61           4      False  "
      ]
     },
     "execution_count": 23,
     "metadata": {},
     "output_type": "execute_result"
    }
   ],
   "source": [
    "pokemon = pd.read_csv('Pokemon.csv')\n",
    "pokemon.sample(4)"
   ]
  },
  {
   "cell_type": "markdown",
   "metadata": {
    "id": "lvHas5wFkBLk"
   },
   "source": [
    "# Task 1 (1 point)"
   ]
  },
  {
   "cell_type": "markdown",
   "metadata": {
    "id": "Kc7y6m_ZkEx5"
   },
   "source": [
    "Investigate  the type of every feature. Is it numerical or cetegorical (nominal or ordinal)? Explain, why.\n",
    "\n",
    "You may need to check the type of the column or consult the description of the data on Kaggle.com"
   ]
  },
  {
   "cell_type": "code",
   "execution_count": 9,
   "metadata": {
    "id": "9L_0QA1Qlh_r"
   },
   "outputs": [
    {
     "data": {
      "text/plain": [
       "#              int64\n",
       "Name          object\n",
       "Type 1        object\n",
       "Type 2        object\n",
       "Total          int64\n",
       "HP             int64\n",
       "Attack         int64\n",
       "Defense        int64\n",
       "Sp. Atk        int64\n",
       "Sp. Def        int64\n",
       "Speed          int64\n",
       "Generation     int64\n",
       "Legendary       bool\n",
       "dtype: object"
      ]
     },
     "execution_count": 9,
     "metadata": {},
     "output_type": "execute_result"
    }
   ],
   "source": [
    "pokemon.dtypes"
   ]
  },
  {
   "cell_type": "markdown",
   "metadata": {
    "id": "Os0HKBvnkpIS"
   },
   "source": [
    "**Answer:** \n",
    "\n",
    "Numerical: Total, HP, Attack, Defense, Sp. Atk, Sp. Def, Speed. ***These are all stats that are measured on a scale.***\n",
    "\n",
    "Categorical Nominal: # (ID), Name, Type 1, Type 2, Legendary. ***These are labels without order.***\n",
    "\n",
    "Categorical Ordinal: Generation. ***Because it's ordered (1,2,3...).***\n",
    "\n",
    "***However some might argue that Generation is numerical if you consider it as a time sequence. But in data terms, if it's representing a group with order, it's ordinal. Since each generation is a distinct group, but they follow a specific order, so yes, ordinal.***"
   ]
  },
  {
   "cell_type": "markdown",
   "metadata": {
    "id": "6PNBhh3YmDNh"
   },
   "source": [
    "# Task 2 (1 point)"
   ]
  },
  {
   "cell_type": "markdown",
   "metadata": {
    "id": "-dFVCWhTmMZI"
   },
   "source": [
    "It is said in the description of the dataset that `Total` is the sum of the stats after it. Let's check, if it is true.\n",
    "\n",
    "Create a new column `'New Total'`, what is the sum of `HP, \tAttack,\tDefense,\tSp. Atk,\tSp. Def,\tSpeed`"
   ]
  },
  {
   "cell_type": "code",
   "execution_count": 31,
   "metadata": {
    "id": "tpzPIRASmFyX"
   },
   "outputs": [
    {
     "data": {
      "text/html": [
       "<div>\n",
       "<style scoped>\n",
       "    .dataframe tbody tr th:only-of-type {\n",
       "        vertical-align: middle;\n",
       "    }\n",
       "\n",
       "    .dataframe tbody tr th {\n",
       "        vertical-align: top;\n",
       "    }\n",
       "\n",
       "    .dataframe thead th {\n",
       "        text-align: right;\n",
       "    }\n",
       "</style>\n",
       "<table border=\"1\" class=\"dataframe\">\n",
       "  <thead>\n",
       "    <tr style=\"text-align: right;\">\n",
       "      <th></th>\n",
       "      <th>#</th>\n",
       "      <th>Name</th>\n",
       "      <th>Type 1</th>\n",
       "      <th>Type 2</th>\n",
       "      <th>Total</th>\n",
       "      <th>HP</th>\n",
       "      <th>Attack</th>\n",
       "      <th>Defense</th>\n",
       "      <th>Sp. Atk</th>\n",
       "      <th>Sp. Def</th>\n",
       "      <th>Speed</th>\n",
       "      <th>Generation</th>\n",
       "      <th>Legendary</th>\n",
       "      <th>New Total</th>\n",
       "    </tr>\n",
       "  </thead>\n",
       "  <tbody>\n",
       "    <tr>\n",
       "      <th>64</th>\n",
       "      <td>59</td>\n",
       "      <td>Arcanine</td>\n",
       "      <td>Fire</td>\n",
       "      <td>NaN</td>\n",
       "      <td>555</td>\n",
       "      <td>90</td>\n",
       "      <td>110</td>\n",
       "      <td>80</td>\n",
       "      <td>100</td>\n",
       "      <td>80</td>\n",
       "      <td>95</td>\n",
       "      <td>1</td>\n",
       "      <td>False</td>\n",
       "      <td>555</td>\n",
       "    </tr>\n",
       "    <tr>\n",
       "      <th>556</th>\n",
       "      <td>497</td>\n",
       "      <td>Serperior</td>\n",
       "      <td>Grass</td>\n",
       "      <td>NaN</td>\n",
       "      <td>528</td>\n",
       "      <td>75</td>\n",
       "      <td>75</td>\n",
       "      <td>95</td>\n",
       "      <td>75</td>\n",
       "      <td>95</td>\n",
       "      <td>113</td>\n",
       "      <td>5</td>\n",
       "      <td>False</td>\n",
       "      <td>528</td>\n",
       "    </tr>\n",
       "    <tr>\n",
       "      <th>489</th>\n",
       "      <td>441</td>\n",
       "      <td>Chatot</td>\n",
       "      <td>Normal</td>\n",
       "      <td>Flying</td>\n",
       "      <td>411</td>\n",
       "      <td>76</td>\n",
       "      <td>65</td>\n",
       "      <td>45</td>\n",
       "      <td>92</td>\n",
       "      <td>42</td>\n",
       "      <td>91</td>\n",
       "      <td>4</td>\n",
       "      <td>False</td>\n",
       "      <td>411</td>\n",
       "    </tr>\n",
       "    <tr>\n",
       "      <th>463</th>\n",
       "      <td>416</td>\n",
       "      <td>Vespiquen</td>\n",
       "      <td>Bug</td>\n",
       "      <td>Flying</td>\n",
       "      <td>474</td>\n",
       "      <td>70</td>\n",
       "      <td>80</td>\n",
       "      <td>102</td>\n",
       "      <td>80</td>\n",
       "      <td>102</td>\n",
       "      <td>40</td>\n",
       "      <td>4</td>\n",
       "      <td>False</td>\n",
       "      <td>474</td>\n",
       "    </tr>\n",
       "    <tr>\n",
       "      <th>776</th>\n",
       "      <td>706</td>\n",
       "      <td>Goodra</td>\n",
       "      <td>Dragon</td>\n",
       "      <td>NaN</td>\n",
       "      <td>600</td>\n",
       "      <td>90</td>\n",
       "      <td>100</td>\n",
       "      <td>70</td>\n",
       "      <td>110</td>\n",
       "      <td>150</td>\n",
       "      <td>80</td>\n",
       "      <td>6</td>\n",
       "      <td>False</td>\n",
       "      <td>600</td>\n",
       "    </tr>\n",
       "  </tbody>\n",
       "</table>\n",
       "</div>"
      ],
      "text/plain": [
       "       #       Name  Type 1  Type 2  Total  HP  Attack  Defense  Sp. Atk  \\\n",
       "64    59   Arcanine    Fire     NaN    555  90     110       80      100   \n",
       "556  497  Serperior   Grass     NaN    528  75      75       95       75   \n",
       "489  441     Chatot  Normal  Flying    411  76      65       45       92   \n",
       "463  416  Vespiquen     Bug  Flying    474  70      80      102       80   \n",
       "776  706     Goodra  Dragon     NaN    600  90     100       70      110   \n",
       "\n",
       "     Sp. Def  Speed  Generation  Legendary  New Total  \n",
       "64        80     95           1      False        555  \n",
       "556       95    113           5      False        528  \n",
       "489       42     91           4      False        411  \n",
       "463      102     40           4      False        474  \n",
       "776      150     80           6      False        600  "
      ]
     },
     "execution_count": 31,
     "metadata": {},
     "output_type": "execute_result"
    }
   ],
   "source": [
    "pokemon['New Total'] = pokemon['HP'] + pokemon['Attack'] + pokemon['Defense'] + pokemon['Sp. Atk'] + pokemon['Sp. Def'] + pokemon['Speed']\n",
    "pokemon.sample(5)"
   ]
  },
  {
   "cell_type": "markdown",
   "metadata": {
    "id": "VG6XFDEumv2-"
   },
   "source": [
    "Now, print the number of rows that contain deifferent   `'Total'` and `'New Total'` values and depict these rows.\n",
    "\n",
    "Hint: compare columns `'Total'` and `'New Total'` and filter rows using the comparison.\n"
   ]
  },
  {
   "cell_type": "code",
   "execution_count": 41,
   "metadata": {
    "id": "kVILcZxjm7M_"
   },
   "outputs": [
    {
     "name": "stdout",
     "output_type": "stream",
     "text": [
      "n of different totals: 0\n"
     ]
    }
   ],
   "source": [
    "difftotals = pokemon.loc[pokemon['Total'] != pokemon['New Total']]\n",
    "# difftotals = pokemon[pokemon['Total'] != pokemon['New Total']]\n",
    "print(f\"n of different totals: {len(difftotals)}\")"
   ]
  },
  {
   "cell_type": "markdown",
   "metadata": {
    "id": "wROS0m8BnY3x"
   },
   "source": [
    "# Task 3 (2 points)"
   ]
  },
  {
   "cell_type": "markdown",
   "metadata": {
    "id": "adiIipTHnegG"
   },
   "source": [
    "Create a frequency table for the `'Type 1'` feature"
   ]
  },
  {
   "cell_type": "code",
   "execution_count": 43,
   "metadata": {
    "id": "8TOLBO2CnjzZ"
   },
   "outputs": [
    {
     "data": {
      "text/plain": [
       "Type 1\n",
       "Water       112\n",
       "Normal       98\n",
       "Grass        70\n",
       "Bug          69\n",
       "Psychic      57\n",
       "Fire         52\n",
       "Electric     44\n",
       "Rock         44\n",
       "Dragon       32\n",
       "Ground       32\n",
       "Ghost        32\n",
       "Dark         31\n",
       "Poison       28\n",
       "Steel        27\n",
       "Fighting     27\n",
       "Ice          24\n",
       "Fairy        17\n",
       "Flying        4\n",
       "Name: count, dtype: int64"
      ]
     },
     "execution_count": 43,
     "metadata": {},
     "output_type": "execute_result"
    }
   ],
   "source": [
    "pokemon['Type 1'].value_counts()"
   ]
  },
  {
   "cell_type": "markdown",
   "metadata": {
    "id": "FD02CLs6nw-u"
   },
   "source": [
    "Also, add proportions and percentage for every type  to the table.\n",
    "\n",
    "Hint: `Series.to_frame` may be a useful function"
   ]
  },
  {
   "cell_type": "code",
   "execution_count": 53,
   "metadata": {
    "id": "1vyFwGy8n6hb"
   },
   "outputs": [
    {
     "name": "stdout",
     "output_type": "stream",
     "text": [
      "          Count  Proportion Percentage\n",
      "Type 1                                \n",
      "Water       112     0.14000      14.0%\n",
      "Normal       98     0.12250     12.25%\n",
      "Grass        70     0.08750      8.75%\n",
      "Bug          69     0.08625      8.62%\n",
      "Psychic      57     0.07125      7.12%\n",
      "Fire         52     0.06500       6.5%\n",
      "Electric     44     0.05500       5.5%\n",
      "Rock         44     0.05500       5.5%\n",
      "Dragon       32     0.04000       4.0%\n",
      "Ground       32     0.04000       4.0%\n",
      "Ghost        32     0.04000       4.0%\n",
      "Dark         31     0.03875      3.88%\n",
      "Poison       28     0.03500       3.5%\n",
      "Steel        27     0.03375      3.38%\n",
      "Fighting     27     0.03375      3.38%\n",
      "Ice          24     0.03000       3.0%\n",
      "Fairy        17     0.02125      2.12%\n",
      "Flying        4     0.00500       0.5%\n"
     ]
    }
   ],
   "source": [
    "pok_type_counts = pokemon['Type 1'].value_counts()\n",
    "result = pd.DataFrame({\n",
    "    'Count': pok_type_counts,\n",
    "    'Proportion': pok_type_counts /len(df),\n",
    "})\n",
    "result['Percentage'] = (result['Proportion']*100).round(2).astype(str) + '%'\n",
    "\n",
    "\n",
    "\n",
    "print(result)"
   ]
  },
  {
   "cell_type": "markdown",
   "metadata": {
    "id": "alhitU-eontE"
   },
   "source": [
    "Draw a plot to depict the percentage. Make sure to make labels/ticks readable."
   ]
  },
  {
   "cell_type": "code",
   "execution_count": 71,
   "metadata": {
    "id": "7-taUHfuouFw"
   },
   "outputs": [
    {
     "data": {
      "text/plain": [
       "([0, 1, 2, 3, 4, 5, 6, 7, 8, 9, 10, 11, 12, 13, 14, 15, 16, 17],\n",
       " [Text(0, 0, 'Grass'),\n",
       "  Text(1, 0, 'Fire'),\n",
       "  Text(2, 0, 'Water'),\n",
       "  Text(3, 0, 'Bug'),\n",
       "  Text(4, 0, 'Normal'),\n",
       "  Text(5, 0, 'Poison'),\n",
       "  Text(6, 0, 'Electric'),\n",
       "  Text(7, 0, 'Ground'),\n",
       "  Text(8, 0, 'Fairy'),\n",
       "  Text(9, 0, 'Fighting'),\n",
       "  Text(10, 0, 'Psychic'),\n",
       "  Text(11, 0, 'Rock'),\n",
       "  Text(12, 0, 'Ghost'),\n",
       "  Text(13, 0, 'Ice'),\n",
       "  Text(14, 0, 'Dragon'),\n",
       "  Text(15, 0, 'Dark'),\n",
       "  Text(16, 0, 'Steel'),\n",
       "  Text(17, 0, 'Flying')])"
      ]
     },
     "execution_count": 71,
     "metadata": {},
     "output_type": "execute_result"
    },
    {
     "data": {
      "image/png": "[encoded data removed]",
      "text/plain": [
       "<Figure size 640x480 with 1 Axes>"
      ]
     },
     "metadata": {},
     "output_type": "display_data"
    }
   ],
   "source": [
    "sns.histplot(data=pokemon, x='Type 1', stat='percent', shrink=0.6)\n",
    "\n",
    "plt.xticks(rotation=90)"
   ]
  },
  {
   "cell_type": "markdown",
   "metadata": {
    "id": "NaOJiwvEpR62"
   },
   "source": [
    "Draw conclusions from the plot. (Are there a lot of differnet types? What is the most/least popular type? ...)"
   ]
  },
  {
   "cell_type": "markdown",
   "metadata": {
    "id": "zKhzK0FxpeI-"
   },
   "source": [
    "**Answer:** \n",
    "\n",
    "The most common type is water, with around 14 pokmon, followed closely by normal and grass, each with approximately 12. Mid-range types like fire, bug, poison, electric, ground, fairy, fighting, psychic, rock, and ghost have between 4 to 8 pokemon each, while the least common types—ice, dragon, dark, steel, and flying—are the rarest, each appearing only 2 or fewer times. This uneven distribution suggests a preference for certain types in the pokemon universe, with water, normal, and grass dominating, while others remain niche"
   ]
  },
  {
   "cell_type": "markdown",
   "metadata": {
    "id": "2jq92opzqRfX"
   },
   "source": [
    "# Task 4 (2 points)"
   ]
  },
  {
   "cell_type": "markdown",
   "metadata": {
    "id": "ilvnzZ-FqTja"
   },
   "source": [
    "Compue the measures of central tendency for the `Sp. Atk` feature"
   ]
  },
  {
   "cell_type": "code",
   "execution_count": 107,
   "metadata": {
    "id": "nuj_1WBOqZCO"
   },
   "outputs": [
    {
     "name": "stdout",
     "output_type": "stream",
     "text": [
      "mean of Sp. Atk: 72.82\n",
      "median of Sp. Atk: 65.0\n",
      "mode (value and count) of Sp. Atk: 0    60\n",
      "Name: Sp. Atk, dtype: int64\n"
     ]
    }
   ],
   "source": [
    "col = 'Sp. Atk'\n",
    "print(f\"mean of Sp. Atk: {pokemon['Sp. Atk'].mean()}\")\n",
    "print(f\"median of Sp. Atk: {pokemon['Sp. Atk'].median()}\")\n",
    "print(f\"mode (value and count) of Sp. Atk: {pokemon['Sp. Atk'].mode()}\")\n"
   ]
  },
  {
   "cell_type": "markdown",
   "metadata": {
    "id": "IihXI9laq5IR"
   },
   "source": [
    "Draw a histogram for the feature and depict the measures on it"
   ]
  },
  {
   "cell_type": "code",
   "execution_count": 149,
   "metadata": {
    "id": "0M3cl1oEqcwh"
   },
   "outputs": [
    {
     "data": {
      "image/png": "[encoded data removed]",
      "text/plain": [
       "<Figure size 1000x600 with 1 Axes>"
      ]
     },
     "metadata": {},
     "output_type": "display_data"
    }
   ],
   "source": [
    "plt.figure(figsize=(10, 6))\n",
    "plt.hist(pokemon['Sp. Atk'], bins=20, color='green', edgecolor='pink', \n",
    "         alpha=0.7, linewidth=1.2, density=False)\n",
    "\n",
    "mean_val = pokemon['Sp. Atk'].mean()\n",
    "median_val =pokemon['Sp. Atk'].median()\n",
    "mode_val = pokemon['Sp. Atk'].mode()[0]\n",
    "\n",
    "plt.axvline(mean_val, linestyle='-.', c='black', linewidth=2, label=f'Mean: {mean_val:.1f}')\n",
    "plt.axvline(median_val, linestyle='-.', c='red', linewidth=2, label=f'Median: {median_val:.1f}')\n",
    "plt.axvline(mode_val, linestyle='-.', c='gold', linewidth=2, label=f'Mode: {mode_val:.1f}')\n",
    "\n",
    "plt.title('Distribution of Special Attack Stats', fontsize=14, pad=20)\n",
    "plt.xlabel('Special Attack Value', fontsize=12)\n",
    "plt.ylabel('Frequency', fontsize=12)\n",
    "plt.grid(axis='y',alpha=0.3)\n",
    "\n",
    "plt.legend(loc='upper right', framealpha=1, shadow=True)\n",
    "\n",
    "plt.gca().spines['top'].set_visible(False)\n",
    "plt.gca().spines['right'].set_visible(False)\n",
    "plt.tight_layout()\n",
    "plt.show()"
   ]
  },
  {
   "cell_type": "markdown",
   "metadata": {
    "id": "dtsfjNLJrO2Z"
   },
   "source": [
    "Is the distribution skewed? Explain your answer."
   ]
  },
  {
   "cell_type": "markdown",
   "metadata": {
    "id": "MDMXnZ85rVrK"
   },
   "source": [
    "**Answer:** \n",
    "If mean > median > mode, the distribution is right-skewed/positively skewed -- the distribution is right-skewed because the tail extends to the right, indicating that higher values are less frequent and pull the mean above the median\n",
    "\n"
   ]
  },
  {
   "cell_type": "markdown",
   "metadata": {
    "id": "0_3rhUhar7Gw"
   },
   "source": [
    "# Task 5 (2 point)"
   ]
  },
  {
   "cell_type": "markdown",
   "metadata": {
    "id": "Zmfma0pcr83o"
   },
   "source": [
    "Now, compute measures of central tendencies for legendary and not legendary separately. Is there any difference?"
   ]
  },
  {
   "cell_type": "code",
   "execution_count": 124,
   "metadata": {
    "id": "bDE27UK7sJ3D"
   },
   "outputs": [
    {
     "data": {
      "text/html": [
       "<div>\n",
       "<style scoped>\n",
       "    .dataframe tbody tr th:only-of-type {\n",
       "        vertical-align: middle;\n",
       "    }\n",
       "\n",
       "    .dataframe tbody tr th {\n",
       "        vertical-align: top;\n",
       "    }\n",
       "\n",
       "    .dataframe thead tr th {\n",
       "        text-align: left;\n",
       "    }\n",
       "\n",
       "    .dataframe thead tr:last-of-type th {\n",
       "        text-align: right;\n",
       "    }\n",
       "</style>\n",
       "<table border=\"1\" class=\"dataframe\">\n",
       "  <thead>\n",
       "    <tr>\n",
       "      <th></th>\n",
       "      <th colspan=\"2\" halign=\"left\">HP</th>\n",
       "      <th colspan=\"2\" halign=\"left\">Attack</th>\n",
       "      <th colspan=\"2\" halign=\"left\">Defense</th>\n",
       "      <th colspan=\"2\" halign=\"left\">Total</th>\n",
       "      <th colspan=\"2\" halign=\"left\">Sp. Atk</th>\n",
       "      <th colspan=\"2\" halign=\"left\">Sp. Def</th>\n",
       "      <th colspan=\"2\" halign=\"left\">Speed</th>\n",
       "    </tr>\n",
       "    <tr>\n",
       "      <th></th>\n",
       "      <th>mean</th>\n",
       "      <th>median</th>\n",
       "      <th>mean</th>\n",
       "      <th>median</th>\n",
       "      <th>mean</th>\n",
       "      <th>median</th>\n",
       "      <th>mean</th>\n",
       "      <th>median</th>\n",
       "      <th>mean</th>\n",
       "      <th>median</th>\n",
       "      <th>mean</th>\n",
       "      <th>median</th>\n",
       "      <th>mean</th>\n",
       "      <th>median</th>\n",
       "    </tr>\n",
       "    <tr>\n",
       "      <th>Legendary</th>\n",
       "      <th></th>\n",
       "      <th></th>\n",
       "      <th></th>\n",
       "      <th></th>\n",
       "      <th></th>\n",
       "      <th></th>\n",
       "      <th></th>\n",
       "      <th></th>\n",
       "      <th></th>\n",
       "      <th></th>\n",
       "      <th></th>\n",
       "      <th></th>\n",
       "      <th></th>\n",
       "      <th></th>\n",
       "    </tr>\n",
       "  </thead>\n",
       "  <tbody>\n",
       "    <tr>\n",
       "      <th>False</th>\n",
       "      <td>67.182313</td>\n",
       "      <td>65.0</td>\n",
       "      <td>75.669388</td>\n",
       "      <td>72.0</td>\n",
       "      <td>71.559184</td>\n",
       "      <td>66.0</td>\n",
       "      <td>417.213605</td>\n",
       "      <td>425.0</td>\n",
       "      <td>68.454422</td>\n",
       "      <td>65.0</td>\n",
       "      <td>68.892517</td>\n",
       "      <td>65.0</td>\n",
       "      <td>65.455782</td>\n",
       "      <td>64.0</td>\n",
       "    </tr>\n",
       "    <tr>\n",
       "      <th>True</th>\n",
       "      <td>92.738462</td>\n",
       "      <td>91.0</td>\n",
       "      <td>116.676923</td>\n",
       "      <td>110.0</td>\n",
       "      <td>99.661538</td>\n",
       "      <td>100.0</td>\n",
       "      <td>637.384615</td>\n",
       "      <td>600.0</td>\n",
       "      <td>122.184615</td>\n",
       "      <td>120.0</td>\n",
       "      <td>105.938462</td>\n",
       "      <td>100.0</td>\n",
       "      <td>100.184615</td>\n",
       "      <td>100.0</td>\n",
       "    </tr>\n",
       "  </tbody>\n",
       "</table>\n",
       "</div>"
      ],
      "text/plain": [
       "                  HP             Attack           Defense              Total  \\\n",
       "                mean median        mean median       mean median        mean   \n",
       "Legendary                                                                      \n",
       "False      67.182313   65.0   75.669388   72.0  71.559184   66.0  417.213605   \n",
       "True       92.738462   91.0  116.676923  110.0  99.661538  100.0  637.384615   \n",
       "\n",
       "                     Sp. Atk            Sp. Def              Speed         \n",
       "          median        mean median        mean median        mean median  \n",
       "Legendary                                                                  \n",
       "False      425.0   68.454422   65.0   68.892517   65.0   65.455782   64.0  \n",
       "True       600.0  122.184615  120.0  105.938462  100.0  100.184615  100.0  "
      ]
     },
     "execution_count": 124,
     "metadata": {},
     "output_type": "execute_result"
    }
   ],
   "source": [
    "pokemon.groupby('Legendary').agg({'HP': ['mean', 'median'],\n",
    "    'Attack': ['mean', 'median'],\n",
    "    'Defense': ['mean', 'median'],\n",
    "    'Total': ['mean', 'median'],\n",
    "    'Sp. Atk': ['mean', 'median'],\n",
    "    'Sp. Def': ['mean', 'median'],\n",
    "    'Speed': ['mean', 'median']})"
   ]
  },
  {
   "cell_type": "markdown",
   "metadata": {
    "id": "TYSPubUxsfw5"
   },
   "source": [
    "**Answer:** \n",
    "Yes, there is a clear difference: Legendary pokemon are stronger in every stat category (HP, Attack, Defense, Sp. Atk, Sp. Def, Speed, and Total Stats) compared to non-Legendary pokemon\n",
    "\n"
   ]
  },
  {
   "cell_type": "markdown",
   "metadata": {
    "id": "te5n7n1FssWT"
   },
   "source": [
    "Draw the hisograms on one plot.\n",
    "\n",
    "Hint: use `hue` in `sns.histplot`"
   ]
  },
  {
   "cell_type": "code",
   "execution_count": 143,
   "metadata": {
    "id": "OYiAwgbDsvOa"
   },
   "outputs": [
    {
     "data": {
      "text/plain": [
       "<Axes: xlabel='Total', ylabel='Count'>"
      ]
     },
     "execution_count": 143,
     "metadata": {},
     "output_type": "execute_result"
    },
    {
     "data": {
      "image/png": "[encoded data removed]",
      "text/plain": [
       "<Figure size 640x480 with 1 Axes>"
      ]
     },
     "metadata": {},
     "output_type": "display_data"
    }
   ],
   "source": [
    "sns.histplot(data=pokemon, x='Total', hue='Legendary', bins=75, alpha=0.3)\n"
   ]
  },
  {
   "cell_type": "code",
   "execution_count": 145,
   "metadata": {},
   "outputs": [
    {
     "data": {
      "text/plain": [
       "<Axes: xlabel='Total', ylabel='Count'>"
      ]
     },
     "execution_count": 145,
     "metadata": {},
     "output_type": "execute_result"
    },
    {
     "data": {
      "image/png": "[encoded data removed]",
      "text/plain": [
       "<Figure size 640x480 with 1 Axes>"
      ]
     },
     "metadata": {},
     "output_type": "display_data"
    }
   ],
   "source": [
    "sns.histplot(data=pokemon, x='Total',hue='Legendary', bins=25, alpha=0.3)\n"
   ]
  },
  {
   "cell_type": "markdown",
   "metadata": {
    "id": "OmIStG4Qtus7"
   },
   "source": [
    "# Task 6 (2 point)"
   ]
  },
  {
   "cell_type": "markdown",
   "metadata": {
    "id": "yDPxukLAtOzt"
   },
   "source": [
    "There is a problem that bars for legendary pokemons are significantly smaller than the bars for non-legendary. Explain, why is it happening"
   ]
  },
  {
   "cell_type": "code",
   "execution_count": 155,
   "metadata": {
    "id": "XERF7aoxtgZp"
   },
   "outputs": [
    {
     "name": "stdout",
     "output_type": "stream",
     "text": [
      "legendary percent: 8.125%\n",
      "non-legendary percent: 91.875%\n"
     ]
    }
   ],
   "source": [
    "leg = pokemon[pokemon['Legendary'] == True].shape[0]\n",
    "non_leg = pokemon[pokemon['Legendary'] == False].shape[0]\n",
    "total = pokemon.shape[0]\n",
    "leg_percent = (leg / total) * 100\n",
    "non_leg_percent = (non_leg / total) * 100\n",
    "\n",
    "print(f\"legendary percent: {leg_percent}%\")\n",
    "print(f\"non-legendary percent: {non_leg_percent}%\")"
   ]
  },
  {
   "cell_type": "markdown",
   "metadata": {
    "id": "GCm60C4vtbj1"
   },
   "source": [
    "**Answer:** The gap is quite large -- legendary pokemon account for just 8%, while non-legendary ones dominate at 92%. This reveals a pronounced imbalance in the dataset, now expressed numerically"
   ]
  },
  {
   "cell_type": "markdown",
   "metadata": {
    "id": "H3kVPnwouDco"
   },
   "source": [
    "Fix the histogram (make the bars comparable hights), so it wil be more convenient to compare the distributions.\n",
    "\n",
    "Hint: consult the [documentation for the histplot](https://seaborn.pydata.org/generated/seaborn.histplot.html) and find, which optional arguments may help."
   ]
  },
  {
   "cell_type": "code",
   "execution_count": 160,
   "metadata": {
    "id": "Az1HAxfxuePE"
   },
   "outputs": [
    {
     "data": {
      "text/plain": [
       "<Axes: xlabel='Total', ylabel='Percent'>"
      ]
     },
     "execution_count": 160,
     "metadata": {},
     "output_type": "execute_result"
    },
    {
     "data": {
      "image/png": "[encoded data removed]",
      "text/plain": [
       "<Figure size 640x480 with 1 Axes>"
      ]
     },
     "metadata": {},
     "output_type": "display_data"
    }
   ],
   "source": [
    "sns.histplot(data= pokemon, x='Total', hue='Legendary', stat='percent', bins=75, alpha=0.3, common_norm=False)"
   ]
  },
  {
   "cell_type": "markdown",
   "metadata": {
    "id": "8ToKOf9cu7Uh"
   },
   "source": [
    "Now, make conclusions about the distributions"
   ]
  },
  {
   "cell_type": "markdown",
   "metadata": {
    "id": "Z5jWEuK6vAEU"
   },
   "source": [
    "**Answer:** \n",
    "Instead of using absolute counts, I chose percentages for better clarity. The distribution shows that non-legendary pokemon are predominantly in the 180-650 total stats range, while legendaries mostly occupy the 580-750 range. Strikingly, over 55% of legendary pokemon have stats concentrated between 580 and 620, 30% - between 670 and 720.\n"
   ]
  }
 ],
 "metadata": {
  "colab": {
   "provenance": [],
   "toc_visible": true
  },
  "kernelspec": {
   "display_name": "Python [conda env:base] *",
   "language": "python",
   "name": "conda-base-py"
  },
  "language_info": {
   "codemirror_mode": {
    "name": "ipython",
    "version": 3
   },
   "file_extension": ".py",
   "mimetype": "text/x-python",
   "name": "python",
   "nbconvert_exporter": "python",
   "pygments_lexer": "ipython3",
   "version": "3.12.7"
  }
 },
 "nbformat": 4,
 "nbformat_minor": 4
}
